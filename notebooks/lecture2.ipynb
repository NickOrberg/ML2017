{
 "cells": [
  {
   "cell_type": "code",
   "execution_count": 2,
   "metadata": {
    "collapsed": false
   },
   "outputs": [],
   "source": [
    "import pandas"
   ]
  },
  {
   "cell_type": "code",
   "execution_count": 3,
   "metadata": {
    "collapsed": false
   },
   "outputs": [],
   "source": [
    "pokemons = pandas.read_csv(\"Pokemon.csv\")"
   ]
  },
  {
   "cell_type": "code",
   "execution_count": 49,
   "metadata": {
    "collapsed": false
   },
   "outputs": [
    {
     "name": "stdout",
     "output_type": "stream",
     "text": [
      "Index(['Total', 'HP', 'Attack', 'Defense', 'Sp. Atk', 'Sp. Def', 'Speed',\n",
      "       'Generation', 'Legendary'],\n",
      "      dtype='object')\n",
      "     Total   HP  Attack  Defense  Sp. Atk  Sp. Def  Speed  Generation  \\\n",
      "0      318   45      49       49       65       65     45           1   \n",
      "1      405   60      62       63       80       80     60           1   \n",
      "2      525   80      82       83      100      100     80           1   \n",
      "3      625   80     100      123      122      120     80           1   \n",
      "4      309   39      52       43       60       50     65           1   \n",
      "5      405   58      64       58       80       65     80           1   \n",
      "6      534   78      84       78      109       85    100           1   \n",
      "7      634   78     130      111      130       85    100           1   \n",
      "8      634   78     104       78      159      115    100           1   \n",
      "9      314   44      48       65       50       64     43           1   \n",
      "10     405   59      63       80       65       80     58           1   \n",
      "11     530   79      83      100       85      105     78           1   \n",
      "12     630   79     103      120      135      115     78           1   \n",
      "13     195   45      30       35       20       20     45           1   \n",
      "14     205   50      20       55       25       25     30           1   \n",
      "15     395   60      45       50       90       80     70           1   \n",
      "16     195   40      35       30       20       20     50           1   \n",
      "17     205   45      25       50       25       25     35           1   \n",
      "18     395   65      90       40       45       80     75           1   \n",
      "19     495   65     150       40       15       80    145           1   \n",
      "20     251   40      45       40       35       35     56           1   \n",
      "21     349   63      60       55       50       50     71           1   \n",
      "22     479   83      80       75       70       70    101           1   \n",
      "23     579   83      80       80      135       80    121           1   \n",
      "24     253   30      56       35       25       35     72           1   \n",
      "25     413   55      81       60       50       70     97           1   \n",
      "26     262   40      60       30       31       31     70           1   \n",
      "27     442   65      90       65       61       61    100           1   \n",
      "28     288   35      60       44       40       54     55           1   \n",
      "29     438   60      85       69       65       79     80           1   \n",
      "..     ...  ...     ...      ...      ...      ...    ...         ...   \n",
      "770    525   95      65       65      110      130     60           6   \n",
      "771    500   78      92       75       74       63    118           6   \n",
      "772    431   67      58       57       81       67    101           6   \n",
      "773    500   50      50      150       50      150     50           6   \n",
      "774    300   45      50       35       55       75     40           6   \n",
      "775    452   68      75       53       83      113     60           6   \n",
      "776    600   90     100       70      110      150     80           6   \n",
      "777    470   57      80       91       80       87     75           6   \n",
      "778    309   43      70       48       50       60     38           6   \n",
      "779    474   85     110       76       65       82     56           6   \n",
      "780    335   49      66       70       44       55     51           6   \n",
      "781    335   44      66       70       44       55     56           6   \n",
      "782    335   54      66       70       44       55     46           6   \n",
      "783    335   59      66       70       44       55     41           6   \n",
      "784    494   65      90      122       58       75     84           6   \n",
      "785    494   55      85      122       58       75     99           6   \n",
      "786    494   75      95      122       58       75     69           6   \n",
      "787    494   85     100      122       58       75     54           6   \n",
      "788    304   55      69       85       32       35     28           6   \n",
      "789    514   95     117      184       44       46     28           6   \n",
      "790    245   40      30       35       45       40     55           6   \n",
      "791    535   85      70       80       97       80    123           6   \n",
      "792    680  126     131       95      131       98     99           6   \n",
      "793    680  126     131       95      131       98     99           6   \n",
      "794    600  108     100      121       81       95     95           6   \n",
      "795    600   50     100      150      100      150     50           6   \n",
      "796    700   50     160      110      160      110    110           6   \n",
      "797    600   80     110       60      150      130     70           6   \n",
      "798    680   80     160       60      170      130     80           6   \n",
      "799    600   80     110      120      130       90     70           6   \n",
      "\n",
      "    Legendary  \n",
      "0       False  \n",
      "1       False  \n",
      "2       False  \n",
      "3       False  \n",
      "4       False  \n",
      "5       False  \n",
      "6       False  \n",
      "7       False  \n",
      "8       False  \n",
      "9       False  \n",
      "10      False  \n",
      "11      False  \n",
      "12      False  \n",
      "13      False  \n",
      "14      False  \n",
      "15      False  \n",
      "16      False  \n",
      "17      False  \n",
      "18      False  \n",
      "19      False  \n",
      "20      False  \n",
      "21      False  \n",
      "22      False  \n",
      "23      False  \n",
      "24      False  \n",
      "25      False  \n",
      "26      False  \n",
      "27      False  \n",
      "28      False  \n",
      "29      False  \n",
      "..        ...  \n",
      "770     False  \n",
      "771     False  \n",
      "772     False  \n",
      "773     False  \n",
      "774     False  \n",
      "775     False  \n",
      "776     False  \n",
      "777     False  \n",
      "778     False  \n",
      "779     False  \n",
      "780     False  \n",
      "781     False  \n",
      "782     False  \n",
      "783     False  \n",
      "784     False  \n",
      "785     False  \n",
      "786     False  \n",
      "787     False  \n",
      "788     False  \n",
      "789     False  \n",
      "790     False  \n",
      "791     False  \n",
      "792      True  \n",
      "793      True  \n",
      "794      True  \n",
      "795      True  \n",
      "796      True  \n",
      "797      True  \n",
      "798      True  \n",
      "799      True  \n",
      "\n",
      "[800 rows x 9 columns]\n"
     ]
    }
   ],
   "source": [
    "# print(pokemons)\n",
    "pokemons = pokemons.drop('Name', 1)\n",
    "pokemons = pokemons.drop('Type 1', 1)\n",
    "pokemons = pokemons.drop('Type 2', 1)\n",
    "pokemons = pokemons.drop('#', 1)\n",
    "print(pokemons.columns)\n",
    "print(pokemons)"
   ]
  },
  {
   "cell_type": "code",
   "execution_count": 50,
   "metadata": {
    "collapsed": false
   },
   "outputs": [
    {
     "ename": "KeyError",
     "evalue": "\"['Type 1' 'Type 2'] not in index\"",
     "output_type": "error",
     "traceback": [
      "\u001b[0;31m---------------------------------------------------------------------------\u001b[0m",
      "\u001b[0;31mKeyError\u001b[0m                                  Traceback (most recent call last)",
      "\u001b[0;32m<ipython-input-50-d63669bdede8>\u001b[0m in \u001b[0;36m<module>\u001b[0;34m()\u001b[0m\n\u001b[1;32m      1\u001b[0m \u001b[0;34m\u001b[0m\u001b[0m\n\u001b[0;32m----> 2\u001b[0;31m \u001b[0mpokemons\u001b[0m \u001b[0;34m=\u001b[0m \u001b[0mpokemons\u001b[0m\u001b[0;34m[\u001b[0m\u001b[0;34m[\u001b[0m\u001b[0;34m'Type 1'\u001b[0m\u001b[0;34m,\u001b[0m \u001b[0;34m'Type 2'\u001b[0m\u001b[0;34m]\u001b[0m\u001b[0;34m]\u001b[0m\u001b[0;34m\u001b[0m\u001b[0m\n\u001b[0m\u001b[1;32m      3\u001b[0m \u001b[0mtypes\u001b[0m \u001b[0;34m=\u001b[0m \u001b[0mpokemons\u001b[0m\u001b[0;34m[\u001b[0m\u001b[0;34m'Type 1'\u001b[0m\u001b[0;34m]\u001b[0m\u001b[0;34m.\u001b[0m\u001b[0munique\u001b[0m\u001b[0;34m(\u001b[0m\u001b[0;34m)\u001b[0m\u001b[0;34m\u001b[0m\u001b[0m\n\u001b[1;32m      4\u001b[0m \u001b[0;34m\u001b[0m\u001b[0m\n\u001b[1;32m      5\u001b[0m \u001b[0;31m# for t in types:\u001b[0m\u001b[0;34m\u001b[0m\u001b[0;34m\u001b[0m\u001b[0m\n",
      "\u001b[0;32m/home/ktisha/.virtualenvs/ML17/lib/python3.5/site-packages/pandas/core/frame.py\u001b[0m in \u001b[0;36m__getitem__\u001b[0;34m(self, key)\u001b[0m\n\u001b[1;32m   2051\u001b[0m         \u001b[0;32mif\u001b[0m \u001b[0misinstance\u001b[0m\u001b[0;34m(\u001b[0m\u001b[0mkey\u001b[0m\u001b[0;34m,\u001b[0m \u001b[0;34m(\u001b[0m\u001b[0mSeries\u001b[0m\u001b[0;34m,\u001b[0m \u001b[0mnp\u001b[0m\u001b[0;34m.\u001b[0m\u001b[0mndarray\u001b[0m\u001b[0;34m,\u001b[0m \u001b[0mIndex\u001b[0m\u001b[0;34m,\u001b[0m \u001b[0mlist\u001b[0m\u001b[0;34m)\u001b[0m\u001b[0;34m)\u001b[0m\u001b[0;34m:\u001b[0m\u001b[0;34m\u001b[0m\u001b[0m\n\u001b[1;32m   2052\u001b[0m             \u001b[0;31m# either boolean or fancy integer index\u001b[0m\u001b[0;34m\u001b[0m\u001b[0;34m\u001b[0m\u001b[0m\n\u001b[0;32m-> 2053\u001b[0;31m             \u001b[0;32mreturn\u001b[0m \u001b[0mself\u001b[0m\u001b[0;34m.\u001b[0m\u001b[0m_getitem_array\u001b[0m\u001b[0;34m(\u001b[0m\u001b[0mkey\u001b[0m\u001b[0;34m)\u001b[0m\u001b[0;34m\u001b[0m\u001b[0m\n\u001b[0m\u001b[1;32m   2054\u001b[0m         \u001b[0;32melif\u001b[0m \u001b[0misinstance\u001b[0m\u001b[0;34m(\u001b[0m\u001b[0mkey\u001b[0m\u001b[0;34m,\u001b[0m \u001b[0mDataFrame\u001b[0m\u001b[0;34m)\u001b[0m\u001b[0;34m:\u001b[0m\u001b[0;34m\u001b[0m\u001b[0m\n\u001b[1;32m   2055\u001b[0m             \u001b[0;32mreturn\u001b[0m \u001b[0mself\u001b[0m\u001b[0;34m.\u001b[0m\u001b[0m_getitem_frame\u001b[0m\u001b[0;34m(\u001b[0m\u001b[0mkey\u001b[0m\u001b[0;34m)\u001b[0m\u001b[0;34m\u001b[0m\u001b[0m\n",
      "\u001b[0;32m/home/ktisha/.virtualenvs/ML17/lib/python3.5/site-packages/pandas/core/frame.py\u001b[0m in \u001b[0;36m_getitem_array\u001b[0;34m(self, key)\u001b[0m\n\u001b[1;32m   2095\u001b[0m             \u001b[0;32mreturn\u001b[0m \u001b[0mself\u001b[0m\u001b[0;34m.\u001b[0m\u001b[0mtake\u001b[0m\u001b[0;34m(\u001b[0m\u001b[0mindexer\u001b[0m\u001b[0;34m,\u001b[0m \u001b[0maxis\u001b[0m\u001b[0;34m=\u001b[0m\u001b[0;36m0\u001b[0m\u001b[0;34m,\u001b[0m \u001b[0mconvert\u001b[0m\u001b[0;34m=\u001b[0m\u001b[0;32mFalse\u001b[0m\u001b[0;34m)\u001b[0m\u001b[0;34m\u001b[0m\u001b[0m\n\u001b[1;32m   2096\u001b[0m         \u001b[0;32melse\u001b[0m\u001b[0;34m:\u001b[0m\u001b[0;34m\u001b[0m\u001b[0m\n\u001b[0;32m-> 2097\u001b[0;31m             \u001b[0mindexer\u001b[0m \u001b[0;34m=\u001b[0m \u001b[0mself\u001b[0m\u001b[0;34m.\u001b[0m\u001b[0mix\u001b[0m\u001b[0;34m.\u001b[0m\u001b[0m_convert_to_indexer\u001b[0m\u001b[0;34m(\u001b[0m\u001b[0mkey\u001b[0m\u001b[0;34m,\u001b[0m \u001b[0maxis\u001b[0m\u001b[0;34m=\u001b[0m\u001b[0;36m1\u001b[0m\u001b[0;34m)\u001b[0m\u001b[0;34m\u001b[0m\u001b[0m\n\u001b[0m\u001b[1;32m   2098\u001b[0m             \u001b[0;32mreturn\u001b[0m \u001b[0mself\u001b[0m\u001b[0;34m.\u001b[0m\u001b[0mtake\u001b[0m\u001b[0;34m(\u001b[0m\u001b[0mindexer\u001b[0m\u001b[0;34m,\u001b[0m \u001b[0maxis\u001b[0m\u001b[0;34m=\u001b[0m\u001b[0;36m1\u001b[0m\u001b[0;34m,\u001b[0m \u001b[0mconvert\u001b[0m\u001b[0;34m=\u001b[0m\u001b[0;32mTrue\u001b[0m\u001b[0;34m)\u001b[0m\u001b[0;34m\u001b[0m\u001b[0m\n\u001b[1;32m   2099\u001b[0m \u001b[0;34m\u001b[0m\u001b[0m\n",
      "\u001b[0;32m/home/ktisha/.virtualenvs/ML17/lib/python3.5/site-packages/pandas/core/indexing.py\u001b[0m in \u001b[0;36m_convert_to_indexer\u001b[0;34m(self, obj, axis, is_setter)\u001b[0m\n\u001b[1;32m   1228\u001b[0m                 \u001b[0mmask\u001b[0m \u001b[0;34m=\u001b[0m \u001b[0mcheck\u001b[0m \u001b[0;34m==\u001b[0m \u001b[0;34m-\u001b[0m\u001b[0;36m1\u001b[0m\u001b[0;34m\u001b[0m\u001b[0m\n\u001b[1;32m   1229\u001b[0m                 \u001b[0;32mif\u001b[0m \u001b[0mmask\u001b[0m\u001b[0;34m.\u001b[0m\u001b[0many\u001b[0m\u001b[0;34m(\u001b[0m\u001b[0;34m)\u001b[0m\u001b[0;34m:\u001b[0m\u001b[0;34m\u001b[0m\u001b[0m\n\u001b[0;32m-> 1230\u001b[0;31m                     \u001b[0;32mraise\u001b[0m \u001b[0mKeyError\u001b[0m\u001b[0;34m(\u001b[0m\u001b[0;34m'%s not in index'\u001b[0m \u001b[0;34m%\u001b[0m \u001b[0mobjarr\u001b[0m\u001b[0;34m[\u001b[0m\u001b[0mmask\u001b[0m\u001b[0;34m]\u001b[0m\u001b[0;34m)\u001b[0m\u001b[0;34m\u001b[0m\u001b[0m\n\u001b[0m\u001b[1;32m   1231\u001b[0m \u001b[0;34m\u001b[0m\u001b[0m\n\u001b[1;32m   1232\u001b[0m                 \u001b[0;32mreturn\u001b[0m \u001b[0m_values_from_object\u001b[0m\u001b[0;34m(\u001b[0m\u001b[0mindexer\u001b[0m\u001b[0;34m)\u001b[0m\u001b[0;34m\u001b[0m\u001b[0m\n",
      "\u001b[0;31mKeyError\u001b[0m: \"['Type 1' 'Type 2'] not in index\""
     ]
    }
   ],
   "source": [
    "\n",
    "pokemons = pokemons[['Type 1', 'Type 2']]\n",
    "types = pokemons['Type 1'].unique()\n",
    "\n",
    "# for t in types:\n",
    "#     pokemons[pokemons['Type 1'] == t]\n",
    "grass = pokemons[pokemons['Type 1'] == 'Grass']\n",
    "# grass\n",
    "\n",
    "# pokemons.plot.scatter(x='Type 1', y='Type 2')"
   ]
  },
  {
   "cell_type": "code",
   "execution_count": 52,
   "metadata": {
    "collapsed": false
   },
   "outputs": [],
   "source": [
    "from sklearn.neighbors import NearestNeighbors\n",
    "import numpy as np\n",
    "\n",
    "nbrs = NearestNeighbors(n_neighbors=2, algorithm='ball_tree').fit(pokemons)\n",
    "distances, indices = nbrs.kneighbors(pokemons)"
   ]
  },
  {
   "cell_type": "code",
   "execution_count": 54,
   "metadata": {
    "collapsed": false
   },
   "outputs": [
    {
     "name": "stdout",
     "output_type": "stream",
     "text": [
      "[[  0.          15.19868415]\n",
      " [  0.          13.52774926]\n",
      " [  0.          22.27105745]\n",
      " ..., \n",
      " [  0.          47.72839826]\n",
      " [  0.          62.12084996]\n",
      " [  0.          30.98386677]]\n"
     ]
    }
   ],
   "source": [
    "print(distances)"
   ]
  },
  {
   "cell_type": "code",
   "execution_count": null,
   "metadata": {
    "collapsed": true
   },
   "outputs": [],
   "source": []
  }
 ],
 "metadata": {
  "kernelspec": {
   "display_name": "Python 3",
   "language": "python",
   "name": "python3"
  },
  "language_info": {
   "codemirror_mode": {
    "name": "ipython",
    "version": 3
   },
   "file_extension": ".py",
   "mimetype": "text/x-python",
   "name": "python",
   "nbconvert_exporter": "python",
   "pygments_lexer": "ipython3",
   "version": "3.5.2"
  }
 },
 "nbformat": 4,
 "nbformat_minor": 2
}
